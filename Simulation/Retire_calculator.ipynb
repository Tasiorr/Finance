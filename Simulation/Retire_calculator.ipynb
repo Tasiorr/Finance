{
 "cells": [
  {
   "cell_type": "markdown",
   "metadata": {},
   "source": [
    "## **How much you need in investments to retire?**\n",
    "---"
   ]
  },
  {
   "cell_type": "markdown",
   "metadata": {},
   "source": [
    "### 1. Choice options"
   ]
  },
  {
   "cell_type": "code",
   "execution_count": 2,
   "metadata": {},
   "outputs": [],
   "source": [
    "def options():\n",
    "    print('1. Calculate the income amount wanted given some average yearly interest rate and your current principle.')\n",
    "    print('2. Calculate the principle you need given some average yearly interest rate to make x income amount per year.')\n",
    "    print('3. Calculate the average yearly intrest rate you need given some principle amount to make x income amount per year.')\n",
    "    choice = int(input())\n",
    "\n",
    "    return choice"
   ]
  },
  {
   "cell_type": "code",
   "execution_count": 8,
   "metadata": {},
   "outputs": [],
   "source": [
    "def calculations(choice):\n",
    "    if choice == 1:\n",
    "        principle = float(input('What is your principle amount?'))\n",
    "        interest_rate = float(input('What is your average yearly intrest rate percentage % ?'))\n",
    "        amount = principle * (interest_rate/100)\n",
    "        print('You would make on average:', amount, 'per year.')\n",
    "    elif choice == 2:\n",
    "        interest_rate = float(input('What is your average yearly intrest rate percentage % ?'))\n",
    "        amount = float(input('What is the amount per year that you want to make from that intrest rate?'))\n",
    "        principle = amount / (interest_rate/100)\n",
    "        print('You would need a principle of about', principle, 'in investments to have an annual income of', amount, 'by taking out', interest_rate, '% interest yearly from your investments.')\n",
    "    elif choice == 3:\n",
    "        principle = float(input('What is your principle amount?'))\n",
    "        amount = float(input('What is the amount per year that you want to make from that intrest rate?'))\n",
    "        interest_rate = amount / principle * 100\n",
    "        print('You would need to find an asset or investment that gives an average of', interest_rate, '% interest per year.')\n",
    "    else:\n",
    "        print('Please choose a number from 1 to 3')"
   ]
  },
  {
   "cell_type": "markdown",
   "metadata": {},
   "source": [
    "### 2. Results"
   ]
  },
  {
   "cell_type": "code",
   "execution_count": null,
   "metadata": {},
   "outputs": [],
   "source": [
    "#Run the program\n",
    "while True:\n",
    "    calculations(options())\n",
    "    print()\n"
   ]
  }
 ],
 "metadata": {
  "interpreter": {
   "hash": "fc94f01d514239d06ec08f734ae50009bbf808618f67a7eec07efff64599280b"
  },
  "kernelspec": {
   "display_name": "Python 3.9.4 64-bit ('base': conda)",
   "language": "python",
   "name": "python3"
  },
  "language_info": {
   "codemirror_mode": {
    "name": "ipython",
    "version": 3
   },
   "file_extension": ".py",
   "mimetype": "text/x-python",
   "name": "python",
   "nbconvert_exporter": "python",
   "pygments_lexer": "ipython3",
   "version": "3.9.4"
  },
  "orig_nbformat": 4
 },
 "nbformat": 4,
 "nbformat_minor": 2
}
